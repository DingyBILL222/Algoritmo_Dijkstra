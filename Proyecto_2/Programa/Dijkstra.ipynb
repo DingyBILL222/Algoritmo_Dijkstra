{
 "cells": [
  {
   "cell_type": "code",
   "execution_count": null,
   "metadata": {},
   "outputs": [],
   "source": [
    "import geopandas as gpd\n",
    "import pandas as pd \n",
    "import numpy as np\n",
    "import networkx as nx\n",
    "import matplotlib.pyplot as plt\n",
    "import warnings\n",
    "import os\n"
   ]
  },
  {
   "attachments": {},
   "cell_type": "markdown",
   "metadata": {},
   "source": [
    "Los archivos a analizar deben de ser almacenados en la carpeta datos, y debe de existir unicamente un archivo shp son sus respectivas correlaciones necesarias."
   ]
  },
  {
   "cell_type": "code",
   "execution_count": null,
   "metadata": {},
   "outputs": [],
   "source": [
    "# Obtener la ruta de la carpeta \"datos\"\n",
    "carpeta = os.path.join(os.getcwd(), 'Datos')\n",
    "\n",
    "# Buscar el archivo .shp dentro de la carpeta\n",
    "for archivo in os.listdir(carpeta):\n",
    "    if archivo.endswith('.shp'):\n",
    "        # Leer el archivo con GeoPandas\n",
    "        ruta_archivo = os.path.join(carpeta, archivo)\n",
    "        red = gpd.read_file(ruta_archivo)\n",
    "        break\n",
    "\n",
    "red_df = pd.DataFrame(red)\n",
    "red_df.to_csv('..\\\\Programa\\\\Datos\\\\nuevo.csv')\n",
    "# Define una función para extraer las coordenadas de inicio y fin de cada línea\n",
    "def get_start_end_coords(line):\n",
    "    start = line.coords[0]\n",
    "    end = line.coords[-1]\n",
    "    return pd.Series({'start_lat': start[1], 'start_lon': start[0], 'end_lat': end[1], 'end_lon': end[0]})\n",
    "\n",
    "# Aplica la función a cada fila del GeoDataFrame y crea cuatro nuevas columnas\n",
    "red[['start_lat', 'start_lon', 'end_lat', 'end_lon']] = red.geometry.apply(get_start_end_coords)\n",
    "# Convierte el objeto GeoDataFrame a un DataFrame de pandas\n",
    "red_df = pd.DataFrame(red)\n",
    "\n",
    "# Exporta el DataFrame a un archivo csv\n",
    "red_df.to_csv('..\\\\Programa\\\\Datos\\\\nuevo.csv', index=False)\n"
   ]
  },
  {
   "cell_type": "code",
   "execution_count": null,
   "metadata": {},
   "outputs": [],
   "source": [
    "fig, ax = plt.subplots(figsize=(20, 10))\n",
    "red.plot(ax=ax, linewidth=0.5)\n",
    "ax.set_axis_off()"
   ]
  },
  {
   "cell_type": "code",
   "execution_count": null,
   "metadata": {},
   "outputs": [],
   "source": [
    "warnings.filterwarnings('ignore') #Ignora warnings\n",
    "archivo = pd.read_csv('..\\\\Programa\\\\Datos\\\\nuevo.csv')\n",
    "archivo\n"
   ]
  },
  {
   "cell_type": "code",
   "execution_count": null,
   "metadata": {},
   "outputs": [],
   "source": [
    "# Crear los nodos del grafo\n",
    "G = nx.Graph()\n",
    "\n",
    "# Obtener la ruta del archivo CSV\n",
    "ruta_archivo = os.path.join(os.getcwd(), 'Datos', 'nuevo.csv')\n",
    "\n",
    "# Leer solo las primeras 5 filas del archivo CSV\n",
    "archivo = pd.read_csv(ruta_archivo, nrows=100)\n",
    "\n",
    "for i, row in archivo.iterrows():\n",
    "    origen = (row['start_lon'], row['start_lat'])\n",
    "    destino = (row['end_lon'], row['end_lat'])\n",
    "    G.add_node(i, pos=origen)\n",
    "    G.add_node(i+1, pos=destino)\n",
    "# Crear los arcos del grafo\n",
    "for i, row in archivo.iterrows():\n",
    "    origen = i\n",
    "    destino = i+1\n",
    "    peso = row['TV']\n",
    "    G.add_edge(origen, destino, weight=peso)\n",
    "\n",
    "# Graficar el grafo en un mapa utilizando mplleaflet\n",
    "fig, ax = plt.subplots(figsize=(20, 10))\n",
    "#mplleaflet.display(fig=fig)\n",
    "\n",
    "nx.draw_networkx(G, pos=nx.get_node_attributes(G, 'pos'), ax=ax, node_size=2, node_color='blue', edge_color='red', with_labels=False, width=1000) \n",
    "#mplleaflet.display(fig=fig)"
   ]
  },
  {
   "cell_type": "code",
   "execution_count": null,
   "metadata": {},
   "outputs": [],
   "source": [
    "print(G.edges())\n",
    "for u, v, w in G.edges.data('weight'):\n",
    "    print(f\"({u}, {v}): {w}\")"
   ]
  },
  {
   "cell_type": "code",
   "execution_count": null,
   "metadata": {},
   "outputs": [],
   "source": [
    "# Crear la matriz de incidencia\n",
    "incidence_matrix = nx.incidence_matrix(G, oriented=False).toarray()\n",
    "\n",
    "# Crear el DataFrame\n",
    "nodes = list(G.nodes())\n",
    "df = pd.DataFrame(data=np.zeros((len(nodes), len(nodes))), index=nodes, columns=nodes)\n",
    "for i, j, weight in G.edges(data='weight'):\n",
    "    df.loc[i, j] = weight\n",
    "\n",
    "# Imprimir la matriz de incidencia y el DataFrame\n",
    "print(incidence_matrix)\n",
    "print(df)"
   ]
  },
  {
   "cell_type": "code",
   "execution_count": null,
   "metadata": {},
   "outputs": [],
   "source": [
    "# Calcular los caminos más cortos entre los nodos del subgrafo\n",
    "shortest_paths = dict(nx.all_pairs_dijkstra_path_length(G, weight='weight'))\n",
    "\n",
    "# Convertir el diccionario de caminos más cortos en una matriz de distancia\n",
    "n = len(nodes)\n",
    "dist_matrix = np.zeros((n, n))\n",
    "\n",
    "for i in range(n):\n",
    "    for j in range(i, n):\n",
    "        if i == j:\n",
    "            dist_matrix[i, j] = 0\n",
    "        else:\n",
    "            if nodes[i] in shortest_paths and nodes[j] in shortest_paths[nodes[i]]:\n",
    "                dist_matrix[i, j] = shortest_paths[nodes[i]][nodes[j]]\n",
    "                dist_matrix[j, i] = shortest_paths[nodes[i]][nodes[j]]\n",
    "            else:\n",
    "                dist_matrix[i, j] = float('inf')\n",
    "                dist_matrix[j, i] = float('inf')\n",
    "print(dist_matrix)\n",
    "# Crear un dataframe de pandas con la matriz\n",
    "df = pd.DataFrame(dist_matrix, index=nodes, columns=nodes)\n",
    "\n",
    "# Exportar el dataframe como un archivo CSV\n",
    "df.to_csv(\"matriz_AD.csv\", index_label='node')\n"
   ]
  },
  {
   "cell_type": "code",
   "execution_count": null,
   "metadata": {},
   "outputs": [],
   "source": [
    "\"\"\"\n",
    "NO USAR, NO FUNICONA EL CÓDIGO, TIENE UN TIEMPO MUY LARGO EN OPERACIÓN.\n",
    "\"\"\"\n",
    "\n",
    "# Definir una función para calcular los caminos más cortos entre un nodo origen y todos los demás nodos\n",
    "def shortest_paths_from_node(G, node):\n",
    "    return nx.single_source_dijkstra_path_length(G, node, weight='weight')\n",
    "\n",
    "def process_nodes(G, node_chunk, shortest_paths_shared):\n",
    "    shortest_paths = {node: shortest_paths_from_node(G, node) for node in node_chunk}\n",
    "    shortest_paths_shared.update(shortest_paths)\n",
    "\n",
    "def main():\n",
    "    G = nx.Graph() # Cargar el grafo\n",
    "    num_processes = mp.cpu_count() # Determinar la cantidad de procesos óptima para el sistema\n",
    "\n",
    "    # Dividir los nodos en chunks que contengan un número similar de aristas\n",
    "    node_chunks = np.array_split(list(G.nodes()), num_processes)\n",
    "\n",
    "    # Utilizar una estructura de datos más eficiente para almacenar los resultados\n",
    "    shortest_paths_shared = mp.Manager().dict()\n",
    "\n",
    "    # Utilizar un enfoque de memoria compartida para permitir que los procesos compartan los datos y los resultados\n",
    "    process_nodes_partial = functools.partial(process_nodes, G, shortest_paths_shared=shortest_paths_shared)\n",
    "    \n",
    "    # Calcular los caminos más cortos desde cada nodo utilizando el Pool de procesos\n",
    "    with mp.Pool(num_processes) as pool:\n",
    "        pool.map(process_nodes_partial, node_chunks)\n",
    "\n",
    "    dist_matrix = pd.DataFrame.from_dict(dict(shortest_paths_shared))\n",
    "\n",
    "    # Sumar filas y columnas de la matriz\n",
    "    row_sums = np.sum(dist_matrix.values, axis=1)\n",
    "    col_sums = np.sum(dist_matrix.values, axis=0)\n",
    "\n",
    "    # Agregar las sumas como filas y columnas adicionales en la matriz\n",
    "    dist_matrix['Row Sum'] = row_sums\n",
    "    dist_matrix.loc['Col Sum'] = np.append(col_sums, np.sum(row_sums))\n",
    "\n",
    "    print(dist_matrix)\n",
    "\n",
    "if __name__ == '__main__':\n",
    "    main()\n",
    "    "
   ]
  }
 ],
 "metadata": {
  "kernelspec": {
   "display_name": "Python 3",
   "language": "python",
   "name": "python3"
  },
  "language_info": {
   "codemirror_mode": {
    "name": "ipython",
    "version": 3
   },
   "file_extension": ".py",
   "mimetype": "text/x-python",
   "name": "python",
   "nbconvert_exporter": "python",
   "pygments_lexer": "ipython3",
   "version": "3.10.10"
  },
  "orig_nbformat": 4
 },
 "nbformat": 4,
 "nbformat_minor": 2
}
